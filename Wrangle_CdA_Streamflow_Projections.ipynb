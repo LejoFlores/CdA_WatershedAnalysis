{
 "cells": [
  {
   "cell_type": "markdown",
   "metadata": {},
   "source": [
    "# Wrangle Streamflow Projection Data"
   ]
  },
  {
   "cell_type": "code",
   "execution_count": 42,
   "metadata": {},
   "outputs": [],
   "source": [
    "import pandas as pd\n",
    "import numpy as np\n",
    "import matplotlib.pyplot as plt\n",
    "import seaborn as sns\n",
    "import itertools as it\n",
    "\n",
    "data_dir = ['/Users/lejoflores/data/FWQ-LakeCdA/']\n",
    "\n",
    "watershed = ['COE']\n",
    "climmodel = ['CanESM2_','CCSM4_','CNRM-CM5_','CSIRO-Mk3-6-0_','GFDL-ESM2M_',\n",
    "             'HadGEM2-CC_','HadGEM2-ES_','inmcm4_','IPSL-CM5A-MR_','MIROC5_']\n",
    "scenario  = ['RCP45_']\n",
    "dsmethod  = ['BCSD_','MACA_']\n",
    "hydmodel  = ['PRMS_P1','VIC_P1','VIC_P2','VIC_P3']\n",
    "dataset   = ['biascorrected_streamflow']\n",
    "version   = ['1.0']\n",
    "ext       = ['.csv']\n",
    "\n",
    "pkl_file  = watershed[0]+'_'+scenario[0]+dataset[0]+'.pkl'"
   ]
  },
  {
   "cell_type": "markdown",
   "metadata": {},
   "source": [
    "## 2. Create an Iterable of the Combination of All Possible Files"
   ]
  },
  {
   "cell_type": "code",
   "execution_count": 2,
   "metadata": {},
   "outputs": [],
   "source": [
    "ingredients = list(it.product(data_dir,watershed,dataset,climmodel,\n",
    "                          scenario,dsmethod,hydmodel,watershed,dataset,version,ext))"
   ]
  },
  {
   "cell_type": "markdown",
   "metadata": {},
   "source": [
    "## 3. Create Actual File Names to Open"
   ]
  },
  {
   "cell_type": "code",
   "execution_count": 3,
   "metadata": {},
   "outputs": [],
   "source": [
    "csv_files = []\n",
    "model_id = []\n",
    "\n",
    "for word in ingredients:    \n",
    "    csv_files.append(word[0]+word[1]+'/'+word[2]+'/'+word[3]+ \\\n",
    "                     word[4]+word[5]+word[6]+'-'+word[7]+'-'+word[8]+'-'+word[9]+word[10])\n",
    "    model_id.append(word[3]+word[5]+word[6])\n",
    "    "
   ]
  },
  {
   "cell_type": "markdown",
   "metadata": {},
   "source": [
    "## 4. Read Each CSV File and Add to a Pandas DataFrame"
   ]
  },
  {
   "cell_type": "code",
   "execution_count": 4,
   "metadata": {},
   "outputs": [],
   "source": [
    "projection_df = pd.DataFrame()\n",
    "\n",
    "count = 0\n",
    "\n",
    "for file in csv_files:\n",
    "    \n",
    "    try:\n",
    "        df_temp = pd.read_csv(file, comment='#', parse_dates=['date'])\n",
    "\n",
    "        if count==0:\n",
    "            projection_df['date'] = df_temp['date']\n",
    "\n",
    "        projection_df[model_id[count]] = df_temp.biascorrected_streamflow.values\n",
    "\n",
    "        count += 1\n",
    "        print(['Read ' + str(i) + ' files...'])\n",
    "    except:\n",
    "        continue\n",
    "        "
   ]
  },
  {
   "cell_type": "markdown",
   "metadata": {},
   "source": [
    "## 5. Save the Resulting DataFrame to a PKL File"
   ]
  },
  {
   "cell_type": "code",
   "execution_count": 5,
   "metadata": {},
   "outputs": [],
   "source": [
    "projection_df.to_pickle(pkl_file)"
   ]
  },
  {
   "cell_type": "markdown",
   "metadata": {},
   "source": [
    "### 5.1 Verify the Shape of the DataFrame is as Expected"
   ]
  },
  {
   "cell_type": "code",
   "execution_count": 6,
   "metadata": {},
   "outputs": [
    {
     "data": {
      "text/plain": [
       "(54787, 81)"
      ]
     },
     "execution_count": 6,
     "metadata": {},
     "output_type": "execute_result"
    }
   ],
   "source": [
    "projection_df.shape"
   ]
  }
 ],
 "metadata": {
  "kernelspec": {
   "display_name": "Python 3",
   "language": "python",
   "name": "python3"
  },
  "language_info": {
   "codemirror_mode": {
    "name": "ipython",
    "version": 3
   },
   "file_extension": ".py",
   "mimetype": "text/x-python",
   "name": "python",
   "nbconvert_exporter": "python",
   "pygments_lexer": "ipython3",
   "version": "3.7.7"
  }
 },
 "nbformat": 4,
 "nbformat_minor": 4
}
